{
 "cells": [
  {
   "cell_type": "code",
   "execution_count": 7,
   "metadata": {
    "collapsed": true
   },
   "outputs": [
    {
     "name": "stdout",
     "output_type": "stream",
     "text": [
      "video extract completed\n"
     ]
    }
   ],
   "source": [
    "import cv2\n",
    "\n",
    "# Read the video file\n",
    "video = cv2.VideoCapture(\"nature.mp4\")\n",
    "\n",
    "# Check if the video file was successfully opened\n",
    "if not video.isOpened():\n",
    "    print(\"Error opening video file\")\n",
    "\n",
    "# Extract the sequence of images from the video\n",
    "frame_count = 0\n",
    "while video.isOpened():\n",
    "    # Read the next frame from the video\n",
    "    success, frame = video.read()\n",
    "\n",
    "    # Check if the frame was successfully read\n",
    "    if not success:\n",
    "        break\n",
    "\n",
    "    # Save the frame as an image file\n",
    "    cv2.imwrite(\"./frames/frame%d.jpg\" % frame_count, frame)\n",
    "\n",
    "    # Increment the frame count\n",
    "    frame_count += 1\n",
    "\n",
    "# Close the video file\n",
    "video.release()\n",
    "print(\"video extract completed\")"
   ]
  },
  {
   "cell_type": "code",
   "execution_count": null,
   "outputs": [],
   "source": [],
   "metadata": {
    "collapsed": false
   }
  }
 ],
 "metadata": {
  "kernelspec": {
   "display_name": "Python 3",
   "language": "python",
   "name": "python3"
  },
  "language_info": {
   "codemirror_mode": {
    "name": "ipython",
    "version": 2
   },
   "file_extension": ".py",
   "mimetype": "text/x-python",
   "name": "python",
   "nbconvert_exporter": "python",
   "pygments_lexer": "ipython2",
   "version": "2.7.6"
  }
 },
 "nbformat": 4,
 "nbformat_minor": 0
}
